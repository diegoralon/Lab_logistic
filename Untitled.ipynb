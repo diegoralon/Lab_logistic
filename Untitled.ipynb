{
 "cells": [
  {
   "cell_type": "markdown",
   "id": "5aeee6f5",
   "metadata": {},
   "source": [
    "# Regresión Logistica"
   ]
  },
  {
   "cell_type": "code",
   "execution_count": 172,
   "id": "ff56dec9",
   "metadata": {},
   "outputs": [],
   "source": [
    "import pandas as pd \n",
    "import numpy as np"
   ]
  },
  {
   "cell_type": "code",
   "execution_count": 173,
   "id": "234b9649",
   "metadata": {},
   "outputs": [],
   "source": [
    "df = pd.read_csv('wine_data.csv')"
   ]
  },
  {
   "cell_type": "code",
   "execution_count": 174,
   "id": "68fa162d",
   "metadata": {
    "tags": []
   },
   "outputs": [
    {
     "name": "stdout",
     "output_type": "stream",
     "text": [
      "Requirement already satisfied: sklearn in ./venv/lib/python3.7/site-packages (0.0)\n",
      "Requirement already satisfied: scikit-learn in ./venv/lib/python3.7/site-packages (from sklearn) (0.24.1)\n",
      "Requirement already satisfied: numpy>=1.13.3 in ./venv/lib/python3.7/site-packages (from scikit-learn->sklearn) (1.20.2)\n",
      "Requirement already satisfied: threadpoolctl>=2.0.0 in ./venv/lib/python3.7/site-packages (from scikit-learn->sklearn) (2.1.0)\n",
      "Requirement already satisfied: scipy>=0.19.1 in ./venv/lib/python3.7/site-packages (from scikit-learn->sklearn) (1.6.2)\n",
      "Requirement already satisfied: joblib>=0.11 in ./venv/lib/python3.7/site-packages (from scikit-learn->sklearn) (1.0.1)\n",
      "Note: you may need to restart the kernel to use updated packages.\n"
     ]
    }
   ],
   "source": [
    "pip install sklearn"
   ]
  },
  {
   "cell_type": "code",
   "execution_count": 175,
   "id": "cea16b73",
   "metadata": {},
   "outputs": [
    {
     "data": {
      "text/html": [
       "<div>\n",
       "<style scoped>\n",
       "    .dataframe tbody tr th:only-of-type {\n",
       "        vertical-align: middle;\n",
       "    }\n",
       "\n",
       "    .dataframe tbody tr th {\n",
       "        vertical-align: top;\n",
       "    }\n",
       "\n",
       "    .dataframe thead th {\n",
       "        text-align: right;\n",
       "    }\n",
       "</style>\n",
       "<table border=\"1\" class=\"dataframe\">\n",
       "  <thead>\n",
       "    <tr style=\"text-align: right;\">\n",
       "      <th></th>\n",
       "      <th>1</th>\n",
       "      <th>14.23</th>\n",
       "      <th>1.71</th>\n",
       "      <th>2.43</th>\n",
       "      <th>15.6</th>\n",
       "      <th>127</th>\n",
       "      <th>2.8</th>\n",
       "      <th>3.06</th>\n",
       "      <th>.28</th>\n",
       "      <th>2.29</th>\n",
       "      <th>5.64</th>\n",
       "      <th>1.04</th>\n",
       "      <th>3.92</th>\n",
       "      <th>1065</th>\n",
       "    </tr>\n",
       "  </thead>\n",
       "  <tbody>\n",
       "    <tr>\n",
       "      <th>0</th>\n",
       "      <td>1</td>\n",
       "      <td>13.20</td>\n",
       "      <td>1.78</td>\n",
       "      <td>2.14</td>\n",
       "      <td>11.2</td>\n",
       "      <td>100</td>\n",
       "      <td>2.65</td>\n",
       "      <td>2.76</td>\n",
       "      <td>0.26</td>\n",
       "      <td>1.28</td>\n",
       "      <td>4.38</td>\n",
       "      <td>1.05</td>\n",
       "      <td>3.40</td>\n",
       "      <td>1050</td>\n",
       "    </tr>\n",
       "    <tr>\n",
       "      <th>1</th>\n",
       "      <td>1</td>\n",
       "      <td>13.16</td>\n",
       "      <td>2.36</td>\n",
       "      <td>2.67</td>\n",
       "      <td>18.6</td>\n",
       "      <td>101</td>\n",
       "      <td>2.80</td>\n",
       "      <td>3.24</td>\n",
       "      <td>0.30</td>\n",
       "      <td>2.81</td>\n",
       "      <td>5.68</td>\n",
       "      <td>1.03</td>\n",
       "      <td>3.17</td>\n",
       "      <td>1185</td>\n",
       "    </tr>\n",
       "    <tr>\n",
       "      <th>2</th>\n",
       "      <td>1</td>\n",
       "      <td>14.37</td>\n",
       "      <td>1.95</td>\n",
       "      <td>2.50</td>\n",
       "      <td>16.8</td>\n",
       "      <td>113</td>\n",
       "      <td>3.85</td>\n",
       "      <td>3.49</td>\n",
       "      <td>0.24</td>\n",
       "      <td>2.18</td>\n",
       "      <td>7.80</td>\n",
       "      <td>0.86</td>\n",
       "      <td>3.45</td>\n",
       "      <td>1480</td>\n",
       "    </tr>\n",
       "  </tbody>\n",
       "</table>\n",
       "</div>"
      ],
      "text/plain": [
       "   1  14.23  1.71  2.43  15.6  127   2.8  3.06   .28  2.29  5.64  1.04  3.92  \\\n",
       "0  1  13.20  1.78  2.14  11.2  100  2.65  2.76  0.26  1.28  4.38  1.05  3.40   \n",
       "1  1  13.16  2.36  2.67  18.6  101  2.80  3.24  0.30  2.81  5.68  1.03  3.17   \n",
       "2  1  14.37  1.95  2.50  16.8  113  3.85  3.49  0.24  2.18  7.80  0.86  3.45   \n",
       "\n",
       "   1065  \n",
       "0  1050  \n",
       "1  1185  \n",
       "2  1480  "
      ]
     },
     "execution_count": 175,
     "metadata": {},
     "output_type": "execute_result"
    }
   ],
   "source": [
    "df.head(3)"
   ]
  },
  {
   "cell_type": "code",
   "execution_count": 176,
   "id": "c6f2edef",
   "metadata": {},
   "outputs": [
    {
     "data": {
      "text/plain": [
       "Index(['1', '14.23', '1.71', '2.43', '15.6', '127', '2.8', '3.06', '.28',\n",
       "       '2.29', '5.64', '1.04', '3.92', '1065'],\n",
       "      dtype='object')"
      ]
     },
     "execution_count": 176,
     "metadata": {},
     "output_type": "execute_result"
    }
   ],
   "source": [
    "df.columns"
   ]
  },
  {
   "cell_type": "code",
   "execution_count": 177,
   "id": "e1b86c99",
   "metadata": {},
   "outputs": [],
   "source": [
    "df['cons'] = 1"
   ]
  },
  {
   "cell_type": "markdown",
   "id": "97d99e4f",
   "metadata": {},
   "source": [
    "Nuestra regresión logística es binaria, por la cual debemos de crear 3 data sets, una para el tipo 1, otro para el 2 y el ultimo para el 3, para que nos digan si es o no es en cada uno de ellos."
   ]
  },
  {
   "cell_type": "code",
   "execution_count": 178,
   "id": "56aa028b",
   "metadata": {},
   "outputs": [],
   "source": [
    "df_1 = df.replace({'1' : { 2 : 0, 3 : 0}})\n",
    "df_2 = df.replace({'1' : { 1 : 0, 3 : 0}})\n",
    "df_3 = df.replace({'1' : { 1 : 0, 2 : 0}})"
   ]
  },
  {
   "cell_type": "markdown",
   "id": "2ec2cbc5",
   "metadata": {},
   "source": [
    "# Armando Funciones de regresion logística"
   ]
  },
  {
   "cell_type": "code",
   "execution_count": 269,
   "id": "7fa11f6d",
   "metadata": {},
   "outputs": [],
   "source": [
    "def sigmoide(X, theta):\n",
    "    z = np.dot(theta, X.T)\n",
    "    return 1/(1+np.exp(-(z))) - 0.0000001"
   ]
  },
  {
   "cell_type": "code",
   "execution_count": 224,
   "id": "968f56ce",
   "metadata": {},
   "outputs": [],
   "source": [
    "def cost(X, y, theta):\n",
    "    y1 = sigmoide(X, theta)\n",
    "    return -(1/len(X)) * np.sum(y*np.log(y1) + (1-y)*np.log(1-y1))"
   ]
  },
  {
   "cell_type": "code",
   "execution_count": 241,
   "id": "5c74270b",
   "metadata": {},
   "outputs": [],
   "source": [
    "def gradient_descent(\n",
    "X,y,theta_0,sigmoide,cost,\n",
    "    learning_rate = 0.0001, threshold=0.001, max_iter=10000): \n",
    "    \n",
    "    theta = theta_0\n",
    "    iteration = 0 \n",
    "    costs = []\n",
    "    thetas = []\n",
    "    \n",
    "    while np.linalg.norm(cost(X,y,theta)) > threshold and iteration < max_iter:\n",
    "        iteration += 1 \n",
    "        theta = theta - (learning_rate * cost(X,y,theta))\n",
    "        costs.append(sigmoide(X,theta))\n",
    "        thetas.append(theta.copy())\n",
    "        \n",
    "    return theta, costs, thetas"
   ]
  },
  {
   "cell_type": "markdown",
   "id": "1de8a448",
   "metadata": {},
   "source": [
    "Estas serian las funciones que utilizaremos para la creación de nuestros modelos"
   ]
  },
  {
   "cell_type": "markdown",
   "id": "dc8f26d1",
   "metadata": {},
   "source": [
    "# Modelo para 1"
   ]
  },
  {
   "cell_type": "code",
   "execution_count": 242,
   "id": "087c4154",
   "metadata": {},
   "outputs": [],
   "source": [
    "X_1_ = df_1.drop(['1'], axis = 1)\n",
    "y_1_ = df_1['1']"
   ]
  },
  {
   "cell_type": "code",
   "execution_count": 243,
   "id": "e7d8d8a4",
   "metadata": {},
   "outputs": [
    {
     "data": {
      "text/plain": [
       "Index(['14.23', '1.71', '2.43', '15.6', '127', '2.8', '3.06', '.28', '2.29',\n",
       "       '5.64', '1.04', '3.92', '1065', 'cons'],\n",
       "      dtype='object')"
      ]
     },
     "execution_count": 243,
     "metadata": {},
     "output_type": "execute_result"
    }
   ],
   "source": [
    "X_1_.columns "
   ]
  },
  {
   "cell_type": "code",
   "execution_count": 244,
   "id": "d750fdcb",
   "metadata": {},
   "outputs": [],
   "source": [
    "X_1 = X_1_.to_numpy()\n",
    "y_1 = y_1_.to_numpy()"
   ]
  },
  {
   "cell_type": "code",
   "execution_count": 245,
   "id": "f8301507",
   "metadata": {},
   "outputs": [],
   "source": [
    "np.random.shuffle(X_1)\n",
    "np.random.shuffle(y_1)\n",
    "X1_train = X_1[:106]\n",
    "X1_cv = X_1[106:141]\n",
    "X1_test = X_1[142:177]\n",
    "y1_train = y_1[:106]\n",
    "y1_cv = y_1[106:141]\n",
    "y1_test = y_1[142:177]"
   ]
  },
  {
   "cell_type": "code",
   "execution_count": 246,
   "id": "8665d848",
   "metadata": {},
   "outputs": [
    {
     "name": "stdout",
     "output_type": "stream",
     "text": [
      "(106, 14) (35, 14) (35, 14)\n",
      "(106,) (35,) (35,)\n"
     ]
    }
   ],
   "source": [
    "print(X1_train.shape,X1_cv.shape,X1_test.shape)\n",
    "print(y1_train.shape,y1_cv.shape,y1_test.shape)"
   ]
  },
  {
   "cell_type": "code",
   "execution_count": 247,
   "id": "d8f67dda",
   "metadata": {},
   "outputs": [],
   "source": [
    "m, n = X_1_.shape\n",
    "theta_0 = np.random.rand(n,1)"
   ]
  },
  {
   "cell_type": "code",
   "execution_count": 266,
   "id": "864e9d51",
   "metadata": {},
   "outputs": [],
   "source": []
  },
  {
   "cell_type": "code",
   "execution_count": 267,
   "id": "bc7cccdf",
   "metadata": {},
   "outputs": [
    {
     "data": {
      "text/plain": [
       "array([[ 0.95105344],\n",
       "       [ 0.58810198],\n",
       "       [ 0.04191167],\n",
       "       [-0.0079683 ],\n",
       "       [ 0.25143962],\n",
       "       [ 0.17314741],\n",
       "       [ 0.49056061],\n",
       "       [ 0.26060409],\n",
       "       [ 0.97962255],\n",
       "       [ 0.76447957],\n",
       "       [ 0.43922932],\n",
       "       [ 0.61950467],\n",
       "       [ 0.47435861],\n",
       "       [ 0.35811137]])"
      ]
     },
     "execution_count": 267,
     "metadata": {},
     "output_type": "execute_result"
    }
   ],
   "source": [
    "theta"
   ]
  },
  {
   "cell_type": "code",
   "execution_count": 268,
   "id": "4605c724",
   "metadata": {},
   "outputs": [
    {
     "data": {
      "text/plain": [
       "array([[0.9999999, 0.9999999, 0.9999999, 0.9999999, 0.9999999, 0.9999999,\n",
       "        0.9999999, 0.9999999, 0.9999999, 0.9999999, 0.9999999, 0.9999999,\n",
       "        0.9999999, 0.9999999, 0.9999999, 0.9999999, 0.9999999, 0.9999999,\n",
       "        0.9999999, 0.9999999, 0.9999999, 0.9999999, 0.9999999, 0.9999999,\n",
       "        0.9999999, 0.9999999, 0.9999999, 0.9999999, 0.9999999, 0.9999999,\n",
       "        0.9999999, 0.9999999, 0.9999999, 0.9999999, 0.9999999, 0.9999999,\n",
       "        0.9999999, 0.9999999, 0.9999999, 0.9999999, 0.9999999, 0.9999999,\n",
       "        0.9999999, 0.9999999, 0.9999999, 0.9999999, 0.9999999, 0.9999999,\n",
       "        0.9999999, 0.9999999, 0.9999999, 0.9999999, 0.9999999, 0.9999999,\n",
       "        0.9999999, 0.9999999, 0.9999999, 0.9999999, 0.9999999, 0.9999999,\n",
       "        0.9999999, 0.9999999, 0.9999999, 0.9999999, 0.9999999, 0.9999999,\n",
       "        0.9999999, 0.9999999, 0.9999999, 0.9999999, 0.9999999, 0.9999999,\n",
       "        0.9999999, 0.9999999, 0.9999999, 0.9999999, 0.9999999, 0.9999999,\n",
       "        0.9999999, 0.9999999, 0.9999999, 0.9999999, 0.9999999, 0.9999999,\n",
       "        0.9999999, 0.9999999, 0.9999999, 0.9999999, 0.9999999, 0.9999999,\n",
       "        0.9999999, 0.9999999, 0.9999999, 0.9999999, 0.9999999, 0.9999999,\n",
       "        0.9999999, 0.9999999, 0.9999999, 0.9999999, 0.9999999, 0.9999999,\n",
       "        0.9999999, 0.9999999, 0.9999999, 0.9999999]])"
      ]
     },
     "execution_count": 268,
     "metadata": {},
     "output_type": "execute_result"
    }
   ],
   "source": [
    "costs[len(costs)-1]"
   ]
  },
  {
   "cell_type": "code",
   "execution_count": null,
   "id": "ff5f1bd3",
   "metadata": {},
   "outputs": [],
   "source": []
  }
 ],
 "metadata": {
  "kernelspec": {
   "display_name": "Python 3",
   "language": "python",
   "name": "python3"
  },
  "language_info": {
   "codemirror_mode": {
    "name": "ipython",
    "version": 3
   },
   "file_extension": ".py",
   "mimetype": "text/x-python",
   "name": "python",
   "nbconvert_exporter": "python",
   "pygments_lexer": "ipython3",
   "version": "3.7.4"
  }
 },
 "nbformat": 4,
 "nbformat_minor": 5
}
