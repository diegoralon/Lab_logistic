{
 "cells": [
  {
   "cell_type": "markdown",
   "id": "f45d3f59",
   "metadata": {},
   "source": [
    "# Laboratorio Regresión Logistica "
   ]
  },
  {
   "cell_type": "markdown",
   "id": "7633b187",
   "metadata": {},
   "source": [
    "## Librerias y Data Set"
   ]
  },
  {
   "cell_type": "code",
   "execution_count": 106,
   "id": "02c7e91f",
   "metadata": {},
   "outputs": [],
   "source": [
    "import pandas as pd \n",
    "import numpy as np\n",
    "import matplotlib as mt\n",
    "from pandas import DataFrame\n",
    "import matplotlib.pyplot as plt"
   ]
  },
  {
   "cell_type": "code",
   "execution_count": 8,
   "id": "01884a58",
   "metadata": {},
   "outputs": [],
   "source": [
    "df = pd.read_csv(\"wine_data.csv\")"
   ]
  },
  {
   "cell_type": "code",
   "execution_count": 9,
   "id": "a49b1880",
   "metadata": {},
   "outputs": [
    {
     "data": {
      "text/html": [
       "<div>\n",
       "<style scoped>\n",
       "    .dataframe tbody tr th:only-of-type {\n",
       "        vertical-align: middle;\n",
       "    }\n",
       "\n",
       "    .dataframe tbody tr th {\n",
       "        vertical-align: top;\n",
       "    }\n",
       "\n",
       "    .dataframe thead th {\n",
       "        text-align: right;\n",
       "    }\n",
       "</style>\n",
       "<table border=\"1\" class=\"dataframe\">\n",
       "  <thead>\n",
       "    <tr style=\"text-align: right;\">\n",
       "      <th></th>\n",
       "      <th>1</th>\n",
       "      <th>14.23</th>\n",
       "      <th>1.71</th>\n",
       "      <th>2.43</th>\n",
       "      <th>15.6</th>\n",
       "      <th>127</th>\n",
       "      <th>2.8</th>\n",
       "      <th>3.06</th>\n",
       "      <th>.28</th>\n",
       "      <th>2.29</th>\n",
       "      <th>5.64</th>\n",
       "      <th>1.04</th>\n",
       "      <th>3.92</th>\n",
       "      <th>1065</th>\n",
       "    </tr>\n",
       "  </thead>\n",
       "  <tbody>\n",
       "    <tr>\n",
       "      <th>0</th>\n",
       "      <td>1</td>\n",
       "      <td>13.20</td>\n",
       "      <td>1.78</td>\n",
       "      <td>2.14</td>\n",
       "      <td>11.2</td>\n",
       "      <td>100</td>\n",
       "      <td>2.65</td>\n",
       "      <td>2.76</td>\n",
       "      <td>0.26</td>\n",
       "      <td>1.28</td>\n",
       "      <td>4.38</td>\n",
       "      <td>1.05</td>\n",
       "      <td>3.40</td>\n",
       "      <td>1050</td>\n",
       "    </tr>\n",
       "    <tr>\n",
       "      <th>1</th>\n",
       "      <td>1</td>\n",
       "      <td>13.16</td>\n",
       "      <td>2.36</td>\n",
       "      <td>2.67</td>\n",
       "      <td>18.6</td>\n",
       "      <td>101</td>\n",
       "      <td>2.80</td>\n",
       "      <td>3.24</td>\n",
       "      <td>0.30</td>\n",
       "      <td>2.81</td>\n",
       "      <td>5.68</td>\n",
       "      <td>1.03</td>\n",
       "      <td>3.17</td>\n",
       "      <td>1185</td>\n",
       "    </tr>\n",
       "  </tbody>\n",
       "</table>\n",
       "</div>"
      ],
      "text/plain": [
       "   1  14.23  1.71  2.43  15.6  127   2.8  3.06   .28  2.29  5.64  1.04  3.92  \\\n",
       "0  1  13.20  1.78  2.14  11.2  100  2.65  2.76  0.26  1.28  4.38  1.05  3.40   \n",
       "1  1  13.16  2.36  2.67  18.6  101  2.80  3.24  0.30  2.81  5.68  1.03  3.17   \n",
       "\n",
       "   1065  \n",
       "0  1050  \n",
       "1  1185  "
      ]
     },
     "execution_count": 9,
     "metadata": {},
     "output_type": "execute_result"
    }
   ],
   "source": [
    "df.head(2)"
   ]
  },
  {
   "cell_type": "code",
   "execution_count": 10,
   "id": "77bf9b91",
   "metadata": {},
   "outputs": [
    {
     "name": "stdout",
     "output_type": "stream",
     "text": [
      "<class 'pandas.core.frame.DataFrame'>\n",
      "RangeIndex: 177 entries, 0 to 176\n",
      "Data columns (total 14 columns):\n",
      " #   Column  Non-Null Count  Dtype  \n",
      "---  ------  --------------  -----  \n",
      " 0   1       177 non-null    int64  \n",
      " 1   14.23   177 non-null    float64\n",
      " 2   1.71    177 non-null    float64\n",
      " 3   2.43    177 non-null    float64\n",
      " 4   15.6    177 non-null    float64\n",
      " 5   127     177 non-null    int64  \n",
      " 6   2.8     177 non-null    float64\n",
      " 7   3.06    177 non-null    float64\n",
      " 8   .28     177 non-null    float64\n",
      " 9   2.29    177 non-null    float64\n",
      " 10  5.64    177 non-null    float64\n",
      " 11  1.04    177 non-null    float64\n",
      " 12  3.92    177 non-null    float64\n",
      " 13  1065    177 non-null    int64  \n",
      "dtypes: float64(11), int64(3)\n",
      "memory usage: 19.5 KB\n"
     ]
    }
   ],
   "source": [
    "df.info()"
   ]
  },
  {
   "cell_type": "markdown",
   "id": "8137f766",
   "metadata": {},
   "source": [
    "Como podemos ver en la primera revisión que tenemos vemos que todas nuestras columnas tienen datos completos por lo cual podemos seguir con el laboratorio sin necesidad de trabajar con missing data"
   ]
  },
  {
   "cell_type": "code",
   "execution_count": 11,
   "id": "72907212",
   "metadata": {},
   "outputs": [
    {
     "data": {
      "text/html": [
       "<div>\n",
       "<style scoped>\n",
       "    .dataframe tbody tr th:only-of-type {\n",
       "        vertical-align: middle;\n",
       "    }\n",
       "\n",
       "    .dataframe tbody tr th {\n",
       "        vertical-align: top;\n",
       "    }\n",
       "\n",
       "    .dataframe thead th {\n",
       "        text-align: right;\n",
       "    }\n",
       "</style>\n",
       "<table border=\"1\" class=\"dataframe\">\n",
       "  <thead>\n",
       "    <tr style=\"text-align: right;\">\n",
       "      <th></th>\n",
       "      <th>1</th>\n",
       "      <th>14.23</th>\n",
       "      <th>1.71</th>\n",
       "      <th>2.43</th>\n",
       "      <th>15.6</th>\n",
       "      <th>127</th>\n",
       "      <th>2.8</th>\n",
       "      <th>3.06</th>\n",
       "      <th>.28</th>\n",
       "      <th>2.29</th>\n",
       "      <th>5.64</th>\n",
       "      <th>1.04</th>\n",
       "      <th>3.92</th>\n",
       "      <th>1065</th>\n",
       "    </tr>\n",
       "  </thead>\n",
       "  <tbody>\n",
       "    <tr>\n",
       "      <th>count</th>\n",
       "      <td>177.000000</td>\n",
       "      <td>177.000000</td>\n",
       "      <td>177.000000</td>\n",
       "      <td>177.000000</td>\n",
       "      <td>177.000000</td>\n",
       "      <td>177.000000</td>\n",
       "      <td>177.000000</td>\n",
       "      <td>177.000000</td>\n",
       "      <td>177.000000</td>\n",
       "      <td>177.000000</td>\n",
       "      <td>177.000000</td>\n",
       "      <td>177.000000</td>\n",
       "      <td>177.000000</td>\n",
       "      <td>177.000000</td>\n",
       "    </tr>\n",
       "    <tr>\n",
       "      <th>mean</th>\n",
       "      <td>1.943503</td>\n",
       "      <td>12.993672</td>\n",
       "      <td>2.339887</td>\n",
       "      <td>2.366158</td>\n",
       "      <td>19.516949</td>\n",
       "      <td>99.587571</td>\n",
       "      <td>2.292260</td>\n",
       "      <td>2.023446</td>\n",
       "      <td>0.362316</td>\n",
       "      <td>1.586949</td>\n",
       "      <td>5.054802</td>\n",
       "      <td>0.956983</td>\n",
       "      <td>2.604294</td>\n",
       "      <td>745.096045</td>\n",
       "    </tr>\n",
       "    <tr>\n",
       "      <th>std</th>\n",
       "      <td>0.773991</td>\n",
       "      <td>0.808808</td>\n",
       "      <td>1.119314</td>\n",
       "      <td>0.275080</td>\n",
       "      <td>3.336071</td>\n",
       "      <td>14.174018</td>\n",
       "      <td>0.626465</td>\n",
       "      <td>0.998658</td>\n",
       "      <td>0.124653</td>\n",
       "      <td>0.571545</td>\n",
       "      <td>2.324446</td>\n",
       "      <td>0.229135</td>\n",
       "      <td>0.705103</td>\n",
       "      <td>314.884046</td>\n",
       "    </tr>\n",
       "    <tr>\n",
       "      <th>min</th>\n",
       "      <td>1.000000</td>\n",
       "      <td>11.030000</td>\n",
       "      <td>0.740000</td>\n",
       "      <td>1.360000</td>\n",
       "      <td>10.600000</td>\n",
       "      <td>70.000000</td>\n",
       "      <td>0.980000</td>\n",
       "      <td>0.340000</td>\n",
       "      <td>0.130000</td>\n",
       "      <td>0.410000</td>\n",
       "      <td>1.280000</td>\n",
       "      <td>0.480000</td>\n",
       "      <td>1.270000</td>\n",
       "      <td>278.000000</td>\n",
       "    </tr>\n",
       "    <tr>\n",
       "      <th>25%</th>\n",
       "      <td>1.000000</td>\n",
       "      <td>12.360000</td>\n",
       "      <td>1.600000</td>\n",
       "      <td>2.210000</td>\n",
       "      <td>17.200000</td>\n",
       "      <td>88.000000</td>\n",
       "      <td>1.740000</td>\n",
       "      <td>1.200000</td>\n",
       "      <td>0.270000</td>\n",
       "      <td>1.250000</td>\n",
       "      <td>3.210000</td>\n",
       "      <td>0.780000</td>\n",
       "      <td>1.930000</td>\n",
       "      <td>500.000000</td>\n",
       "    </tr>\n",
       "    <tr>\n",
       "      <th>50%</th>\n",
       "      <td>2.000000</td>\n",
       "      <td>13.050000</td>\n",
       "      <td>1.870000</td>\n",
       "      <td>2.360000</td>\n",
       "      <td>19.500000</td>\n",
       "      <td>98.000000</td>\n",
       "      <td>2.350000</td>\n",
       "      <td>2.130000</td>\n",
       "      <td>0.340000</td>\n",
       "      <td>1.550000</td>\n",
       "      <td>4.680000</td>\n",
       "      <td>0.960000</td>\n",
       "      <td>2.780000</td>\n",
       "      <td>672.000000</td>\n",
       "    </tr>\n",
       "    <tr>\n",
       "      <th>75%</th>\n",
       "      <td>3.000000</td>\n",
       "      <td>13.670000</td>\n",
       "      <td>3.100000</td>\n",
       "      <td>2.560000</td>\n",
       "      <td>21.500000</td>\n",
       "      <td>107.000000</td>\n",
       "      <td>2.800000</td>\n",
       "      <td>2.860000</td>\n",
       "      <td>0.440000</td>\n",
       "      <td>1.950000</td>\n",
       "      <td>6.200000</td>\n",
       "      <td>1.120000</td>\n",
       "      <td>3.170000</td>\n",
       "      <td>985.000000</td>\n",
       "    </tr>\n",
       "    <tr>\n",
       "      <th>max</th>\n",
       "      <td>3.000000</td>\n",
       "      <td>14.830000</td>\n",
       "      <td>5.800000</td>\n",
       "      <td>3.230000</td>\n",
       "      <td>30.000000</td>\n",
       "      <td>162.000000</td>\n",
       "      <td>3.880000</td>\n",
       "      <td>5.080000</td>\n",
       "      <td>0.660000</td>\n",
       "      <td>3.580000</td>\n",
       "      <td>13.000000</td>\n",
       "      <td>1.710000</td>\n",
       "      <td>4.000000</td>\n",
       "      <td>1680.000000</td>\n",
       "    </tr>\n",
       "  </tbody>\n",
       "</table>\n",
       "</div>"
      ],
      "text/plain": [
       "                1       14.23        1.71        2.43        15.6         127  \\\n",
       "count  177.000000  177.000000  177.000000  177.000000  177.000000  177.000000   \n",
       "mean     1.943503   12.993672    2.339887    2.366158   19.516949   99.587571   \n",
       "std      0.773991    0.808808    1.119314    0.275080    3.336071   14.174018   \n",
       "min      1.000000   11.030000    0.740000    1.360000   10.600000   70.000000   \n",
       "25%      1.000000   12.360000    1.600000    2.210000   17.200000   88.000000   \n",
       "50%      2.000000   13.050000    1.870000    2.360000   19.500000   98.000000   \n",
       "75%      3.000000   13.670000    3.100000    2.560000   21.500000  107.000000   \n",
       "max      3.000000   14.830000    5.800000    3.230000   30.000000  162.000000   \n",
       "\n",
       "              2.8        3.06         .28        2.29        5.64        1.04  \\\n",
       "count  177.000000  177.000000  177.000000  177.000000  177.000000  177.000000   \n",
       "mean     2.292260    2.023446    0.362316    1.586949    5.054802    0.956983   \n",
       "std      0.626465    0.998658    0.124653    0.571545    2.324446    0.229135   \n",
       "min      0.980000    0.340000    0.130000    0.410000    1.280000    0.480000   \n",
       "25%      1.740000    1.200000    0.270000    1.250000    3.210000    0.780000   \n",
       "50%      2.350000    2.130000    0.340000    1.550000    4.680000    0.960000   \n",
       "75%      2.800000    2.860000    0.440000    1.950000    6.200000    1.120000   \n",
       "max      3.880000    5.080000    0.660000    3.580000   13.000000    1.710000   \n",
       "\n",
       "             3.92         1065  \n",
       "count  177.000000   177.000000  \n",
       "mean     2.604294   745.096045  \n",
       "std      0.705103   314.884046  \n",
       "min      1.270000   278.000000  \n",
       "25%      1.930000   500.000000  \n",
       "50%      2.780000   672.000000  \n",
       "75%      3.170000   985.000000  \n",
       "max      4.000000  1680.000000  "
      ]
     },
     "execution_count": 11,
     "metadata": {},
     "output_type": "execute_result"
    }
   ],
   "source": [
    "df.describe()"
   ]
  },
  {
   "cell_type": "code",
   "execution_count": 12,
   "id": "1a919963",
   "metadata": {},
   "outputs": [
    {
     "data": {
      "text/plain": [
       "1          3\n",
       "14.23    125\n",
       "1.71     133\n",
       "2.43      78\n",
       "15.6      62\n",
       "127       52\n",
       "2.8       97\n",
       "3.06     131\n",
       ".28       39\n",
       "2.29     101\n",
       "5.64     131\n",
       "1.04      78\n",
       "3.92     121\n",
       "1065     121\n",
       "dtype: int64"
      ]
     },
     "execution_count": 12,
     "metadata": {},
     "output_type": "execute_result"
    }
   ],
   "source": [
    "df.nunique()"
   ]
  },
  {
   "cell_type": "markdown",
   "id": "b229fdab",
   "metadata": {},
   "source": [
    "Como podemos ver en nuestro data set tenemos bastantes variables que estan en diferentes escalas por lo cual tenemos que arreglar esta situación, ahora en nuestra variable objetivo tenemos tres variables posibles, por lo cual necesitamos hacer unos cambios en esta cuestión para poder correr de manera correcta nuestro modelo from scratch"
   ]
  },
  {
   "cell_type": "markdown",
   "id": "9f53ce01",
   "metadata": {},
   "source": [
    "## Separando Variables y Ajustandolas"
   ]
  },
  {
   "cell_type": "code",
   "execution_count": 13,
   "id": "d9aa7950",
   "metadata": {},
   "outputs": [],
   "source": [
    "y = df['1']\n",
    "X = df.drop('1', axis = 1)"
   ]
  },
  {
   "cell_type": "code",
   "execution_count": 14,
   "id": "58710794",
   "metadata": {},
   "outputs": [
    {
     "name": "stdout",
     "output_type": "stream",
     "text": [
      "(177,) (177, 13)\n"
     ]
    }
   ],
   "source": [
    "print(y.shape, X.shape)"
   ]
  },
  {
   "cell_type": "markdown",
   "id": "9e8bb921",
   "metadata": {},
   "source": [
    "Aca podemos ver que nuestras variables tienen el mismo largo por lo cual no hicimos nada incorrecto en nuestra partición "
   ]
  },
  {
   "cell_type": "code",
   "execution_count": 15,
   "id": "1a284752",
   "metadata": {},
   "outputs": [],
   "source": [
    "from sklearn.preprocessing import StandardScaler"
   ]
  },
  {
   "cell_type": "code",
   "execution_count": 16,
   "id": "40d9e0f6",
   "metadata": {},
   "outputs": [],
   "source": [
    "scaler = StandardScaler()\n",
    "scaler.fit(X)\n",
    "X = scaler.fit_transform(X)\n",
    "X = DataFrame(X)"
   ]
  },
  {
   "cell_type": "code",
   "execution_count": 17,
   "id": "41275501",
   "metadata": {},
   "outputs": [
    {
     "data": {
      "text/html": [
       "<div>\n",
       "<style scoped>\n",
       "    .dataframe tbody tr th:only-of-type {\n",
       "        vertical-align: middle;\n",
       "    }\n",
       "\n",
       "    .dataframe tbody tr th {\n",
       "        vertical-align: top;\n",
       "    }\n",
       "\n",
       "    .dataframe thead th {\n",
       "        text-align: right;\n",
       "    }\n",
       "</style>\n",
       "<table border=\"1\" class=\"dataframe\">\n",
       "  <thead>\n",
       "    <tr style=\"text-align: right;\">\n",
       "      <th></th>\n",
       "      <th>0</th>\n",
       "      <th>1</th>\n",
       "      <th>2</th>\n",
       "      <th>3</th>\n",
       "      <th>4</th>\n",
       "      <th>5</th>\n",
       "      <th>6</th>\n",
       "      <th>7</th>\n",
       "      <th>8</th>\n",
       "      <th>9</th>\n",
       "      <th>10</th>\n",
       "      <th>11</th>\n",
       "      <th>12</th>\n",
       "    </tr>\n",
       "  </thead>\n",
       "  <tbody>\n",
       "    <tr>\n",
       "      <th>count</th>\n",
       "      <td>1.770000e+02</td>\n",
       "      <td>1.770000e+02</td>\n",
       "      <td>1.770000e+02</td>\n",
       "      <td>1.770000e+02</td>\n",
       "      <td>1.770000e+02</td>\n",
       "      <td>1.770000e+02</td>\n",
       "      <td>1.770000e+02</td>\n",
       "      <td>1.770000e+02</td>\n",
       "      <td>1.770000e+02</td>\n",
       "      <td>1.770000e+02</td>\n",
       "      <td>1.770000e+02</td>\n",
       "      <td>1.770000e+02</td>\n",
       "      <td>1.770000e+02</td>\n",
       "    </tr>\n",
       "    <tr>\n",
       "      <th>mean</th>\n",
       "      <td>-5.218675e-16</td>\n",
       "      <td>2.810056e-16</td>\n",
       "      <td>-3.813647e-16</td>\n",
       "      <td>-2.408619e-16</td>\n",
       "      <td>-8.028731e-17</td>\n",
       "      <td>-2.810056e-16</td>\n",
       "      <td>1.605746e-16</td>\n",
       "      <td>-6.021549e-16</td>\n",
       "      <td>-4.014366e-17</td>\n",
       "      <td>1.806465e-16</td>\n",
       "      <td>6.021549e-16</td>\n",
       "      <td>7.225858e-16</td>\n",
       "      <td>1.605746e-16</td>\n",
       "    </tr>\n",
       "    <tr>\n",
       "      <th>std</th>\n",
       "      <td>1.002837e+00</td>\n",
       "      <td>1.002837e+00</td>\n",
       "      <td>1.002837e+00</td>\n",
       "      <td>1.002837e+00</td>\n",
       "      <td>1.002837e+00</td>\n",
       "      <td>1.002837e+00</td>\n",
       "      <td>1.002837e+00</td>\n",
       "      <td>1.002837e+00</td>\n",
       "      <td>1.002837e+00</td>\n",
       "      <td>1.002837e+00</td>\n",
       "      <td>1.002837e+00</td>\n",
       "      <td>1.002837e+00</td>\n",
       "      <td>1.002837e+00</td>\n",
       "    </tr>\n",
       "    <tr>\n",
       "      <th>min</th>\n",
       "      <td>-2.434746e+00</td>\n",
       "      <td>-1.433400e+00</td>\n",
       "      <td>-3.668064e+00</td>\n",
       "      <td>-2.680472e+00</td>\n",
       "      <td>-2.093373e+00</td>\n",
       "      <td>-2.100648e+00</td>\n",
       "      <td>-1.690491e+00</td>\n",
       "      <td>-1.868993e+00</td>\n",
       "      <td>-2.065084e+00</td>\n",
       "      <td>-1.628565e+00</td>\n",
       "      <td>-2.087573e+00</td>\n",
       "      <td>-1.897707e+00</td>\n",
       "      <td>-1.487599e+00</td>\n",
       "    </tr>\n",
       "    <tr>\n",
       "      <th>25%</th>\n",
       "      <td>-7.856866e-01</td>\n",
       "      <td>-6.628933e-01</td>\n",
       "      <td>-5.692924e-01</td>\n",
       "      <td>-6.964846e-01</td>\n",
       "      <td>-8.198411e-01</td>\n",
       "      <td>-8.840502e-01</td>\n",
       "      <td>-8.268924e-01</td>\n",
       "      <td>-7.426883e-01</td>\n",
       "      <td>-5.912136e-01</td>\n",
       "      <td>-7.959038e-01</td>\n",
       "      <td>-7.745875e-01</td>\n",
       "      <td>-9.590184e-01</td>\n",
       "      <td>-7.805774e-01</td>\n",
       "    </tr>\n",
       "    <tr>\n",
       "      <th>50%</th>\n",
       "      <td>6.984037e-02</td>\n",
       "      <td>-4.209899e-01</td>\n",
       "      <td>-2.245039e-02</td>\n",
       "      <td>-5.094986e-03</td>\n",
       "      <td>-1.123234e-01</td>\n",
       "      <td>9.242960e-02</td>\n",
       "      <td>1.069996e-01</td>\n",
       "      <td>-1.795360e-01</td>\n",
       "      <td>-6.483128e-02</td>\n",
       "      <td>-1.617011e-01</td>\n",
       "      <td>1.320404e-02</td>\n",
       "      <td>2.498992e-01</td>\n",
       "      <td>-2.327949e-01</td>\n",
       "    </tr>\n",
       "    <tr>\n",
       "      <th>75%</th>\n",
       "      <td>8.385748e-01</td>\n",
       "      <td>6.810145e-01</td>\n",
       "      <td>7.066723e-01</td>\n",
       "      <td>5.961134e-01</td>\n",
       "      <td>5.244425e-01</td>\n",
       "      <td>8.127835e-01</td>\n",
       "      <td>8.400546e-01</td>\n",
       "      <td>6.249672e-01</td>\n",
       "      <td>6.370119e-01</td>\n",
       "      <td>4.940731e-01</td>\n",
       "      <td>7.134631e-01</td>\n",
       "      <td>8.045791e-01</td>\n",
       "      <td>7.640417e-01</td>\n",
       "    </tr>\n",
       "    <tr>\n",
       "      <th>max</th>\n",
       "      <td>2.276852e+00</td>\n",
       "      <td>3.100048e+00</td>\n",
       "      <td>3.149233e+00</td>\n",
       "      <td>3.151249e+00</td>\n",
       "      <td>4.415790e+00</td>\n",
       "      <td>2.541633e+00</td>\n",
       "      <td>3.069345e+00</td>\n",
       "      <td>2.394874e+00</td>\n",
       "      <td>3.497023e+00</td>\n",
       "      <td>3.427800e+00</td>\n",
       "      <td>3.295669e+00</td>\n",
       "      <td>1.985052e+00</td>\n",
       "      <td>2.977465e+00</td>\n",
       "    </tr>\n",
       "  </tbody>\n",
       "</table>\n",
       "</div>"
      ],
      "text/plain": [
       "                 0             1             2             3             4   \\\n",
       "count  1.770000e+02  1.770000e+02  1.770000e+02  1.770000e+02  1.770000e+02   \n",
       "mean  -5.218675e-16  2.810056e-16 -3.813647e-16 -2.408619e-16 -8.028731e-17   \n",
       "std    1.002837e+00  1.002837e+00  1.002837e+00  1.002837e+00  1.002837e+00   \n",
       "min   -2.434746e+00 -1.433400e+00 -3.668064e+00 -2.680472e+00 -2.093373e+00   \n",
       "25%   -7.856866e-01 -6.628933e-01 -5.692924e-01 -6.964846e-01 -8.198411e-01   \n",
       "50%    6.984037e-02 -4.209899e-01 -2.245039e-02 -5.094986e-03 -1.123234e-01   \n",
       "75%    8.385748e-01  6.810145e-01  7.066723e-01  5.961134e-01  5.244425e-01   \n",
       "max    2.276852e+00  3.100048e+00  3.149233e+00  3.151249e+00  4.415790e+00   \n",
       "\n",
       "                 5             6             7             8             9   \\\n",
       "count  1.770000e+02  1.770000e+02  1.770000e+02  1.770000e+02  1.770000e+02   \n",
       "mean  -2.810056e-16  1.605746e-16 -6.021549e-16 -4.014366e-17  1.806465e-16   \n",
       "std    1.002837e+00  1.002837e+00  1.002837e+00  1.002837e+00  1.002837e+00   \n",
       "min   -2.100648e+00 -1.690491e+00 -1.868993e+00 -2.065084e+00 -1.628565e+00   \n",
       "25%   -8.840502e-01 -8.268924e-01 -7.426883e-01 -5.912136e-01 -7.959038e-01   \n",
       "50%    9.242960e-02  1.069996e-01 -1.795360e-01 -6.483128e-02 -1.617011e-01   \n",
       "75%    8.127835e-01  8.400546e-01  6.249672e-01  6.370119e-01  4.940731e-01   \n",
       "max    2.541633e+00  3.069345e+00  2.394874e+00  3.497023e+00  3.427800e+00   \n",
       "\n",
       "                 10            11            12  \n",
       "count  1.770000e+02  1.770000e+02  1.770000e+02  \n",
       "mean   6.021549e-16  7.225858e-16  1.605746e-16  \n",
       "std    1.002837e+00  1.002837e+00  1.002837e+00  \n",
       "min   -2.087573e+00 -1.897707e+00 -1.487599e+00  \n",
       "25%   -7.745875e-01 -9.590184e-01 -7.805774e-01  \n",
       "50%    1.320404e-02  2.498992e-01 -2.327949e-01  \n",
       "75%    7.134631e-01  8.045791e-01  7.640417e-01  \n",
       "max    3.295669e+00  1.985052e+00  2.977465e+00  "
      ]
     },
     "execution_count": 17,
     "metadata": {},
     "output_type": "execute_result"
    }
   ],
   "source": [
    "X.describe()"
   ]
  },
  {
   "cell_type": "markdown",
   "id": "1b7382ec",
   "metadata": {},
   "source": [
    "Ahora que ta tenemos nuestros valores ajustados, ya podemos pasarlos a numpy array para hacer unos ultimos ajustes"
   ]
  },
  {
   "cell_type": "code",
   "execution_count": 18,
   "id": "ae6dc3fc",
   "metadata": {},
   "outputs": [],
   "source": [
    "y = y.to_numpy()\n",
    "X = X.to_numpy()"
   ]
  },
  {
   "cell_type": "code",
   "execution_count": 19,
   "id": "609c1b9f",
   "metadata": {},
   "outputs": [
    {
     "name": "stdout",
     "output_type": "stream",
     "text": [
      "(177,) (177, 13)\n"
     ]
    }
   ],
   "source": [
    "print(y.shape,X.shape)"
   ]
  },
  {
   "cell_type": "code",
   "execution_count": 20,
   "id": "3a21c581",
   "metadata": {},
   "outputs": [],
   "source": [
    "y_1 = (y == 1)*1\n",
    "y_2 = (y == 2)*1\n",
    "y_3 = (y == 3)*1"
   ]
  },
  {
   "cell_type": "markdown",
   "id": "714ea08d",
   "metadata": {},
   "source": [
    "Ahora ya tenemos nuestras 3 Y's en formato para poder trabajarlo, ya que tenemos todo listo para seguir podemos cargar nuestras funciones"
   ]
  },
  {
   "cell_type": "markdown",
   "id": "69e337b7",
   "metadata": {},
   "source": [
    "## Funciones de Regresión logistica y Ajustes"
   ]
  },
  {
   "cell_type": "code",
   "execution_count": 101,
   "id": "7db296af",
   "metadata": {},
   "outputs": [],
   "source": [
    "def hypothesis(X, theta):\n",
    "    z = X @ theta\n",
    "    return 1/(1 + np.exp(-z))\n",
    "\n",
    "def cost_function(X, y, theta):\n",
    "    yh = hypothesis(X, theta)\n",
    "    return (-1/len(X)) * np.sum(y*np.log(yh) + (1-y)*np.log(1-yh))\n",
    "\n",
    "def gradient_descent(X, y, theta, learning_rate, max_iter = 2000):\n",
    "    m = len(X)\n",
    "    J = [cost_function(X, y, theta)]\n",
    "    for i in range(0, max_iter):\n",
    "        h = hypothesis(X, theta)\n",
    "        for i in range(0, X.shape[1]):\n",
    "            theta = theta - (learning_rate/m) * np.sum((h-y)*X[:, i])\n",
    "        J.append(cost_function(X, y, theta))\n",
    "    return J, theta\n",
    "\n",
    "def valor_h(x_train, x_test, theta):    \n",
    "    h_train = hypothesis(x_train, theta).mean()\n",
    "    h_test = hypothesis(x_test, theta).mean()\n",
    "    avg_h = (h_train + h_test) / 2\n",
    "    return avg_h"
   ]
  },
  {
   "cell_type": "markdown",
   "id": "be630252",
   "metadata": {},
   "source": [
    "Como podemos observar tuvimos que hacer un cambio para que las hipotesis que calcularamos fueran de forma de sigmoide, por eso creamos nuestra variable de sigmoide y la colocamos en la función"
   ]
  },
  {
   "cell_type": "markdown",
   "id": "ff6fc0a5",
   "metadata": {},
   "source": [
    "## Modelo 1 para Variable 1 "
   ]
  },
  {
   "cell_type": "code",
   "execution_count": 27,
   "id": "99033ef9",
   "metadata": {},
   "outputs": [],
   "source": [
    "from sklearn.model_selection import train_test_split"
   ]
  },
  {
   "cell_type": "code",
   "execution_count": 28,
   "id": "cb054ffd",
   "metadata": {},
   "outputs": [],
   "source": [
    "X1_train, X1_test, y1_train, y1_test = train_test_split(X, y_1, test_size=0.20, random_state=42, shuffle = True)"
   ]
  },
  {
   "cell_type": "code",
   "execution_count": 29,
   "id": "270d9dc0",
   "metadata": {},
   "outputs": [
    {
     "name": "stdout",
     "output_type": "stream",
     "text": [
      "(141, 13) (141,)\n",
      "(36, 13) (36,)\n"
     ]
    }
   ],
   "source": [
    "print(X1_train.shape,y1_train.shape)\n",
    "print(X1_test.shape,y1_test.shape)"
   ]
  },
  {
   "cell_type": "code",
   "execution_count": 95,
   "id": "0d7efe00",
   "metadata": {},
   "outputs": [
    {
     "name": "stdout",
     "output_type": "stream",
     "text": [
      "(13, 1)\n"
     ]
    }
   ],
   "source": [
    "m, n = X.shape\n",
    "theta_01 = np.full((n,1), 0.5)\n",
    "print(theta_01.shape)"
   ]
  },
  {
   "cell_type": "code",
   "execution_count": 116,
   "id": "46848eb5",
   "metadata": {},
   "outputs": [],
   "source": [
    "J1, theta1 = gradient_descent(\n",
    "X1_train, y1_train, theta_01, 0.000001, 10000)"
   ]
  },
  {
   "cell_type": "code",
   "execution_count": 125,
   "id": "67c4fe5c",
   "metadata": {},
   "outputs": [
    {
     "name": "stdout",
     "output_type": "stream",
     "text": [
      "774.7081589438764\n"
     ]
    }
   ],
   "source": [
    "print(J1[len(J1)-1])"
   ]
  },
  {
   "cell_type": "code",
   "execution_count": 118,
   "id": "2419b388",
   "metadata": {},
   "outputs": [
    {
     "data": {
      "text/plain": [
       "(13, 1)"
      ]
     },
     "execution_count": 118,
     "metadata": {},
     "output_type": "execute_result"
    }
   ],
   "source": [
    "theta1.shape"
   ]
  },
  {
   "cell_type": "code",
   "execution_count": 119,
   "id": "45d605f1",
   "metadata": {},
   "outputs": [
    {
     "data": {
      "text/plain": [
       "0.4970440982016331"
      ]
     },
     "execution_count": 119,
     "metadata": {},
     "output_type": "execute_result"
    }
   ],
   "source": [
    "valor_h(X1_train, X1_test, theta_01)"
   ]
  },
  {
   "cell_type": "code",
   "execution_count": 120,
   "id": "b6be6057",
   "metadata": {},
   "outputs": [
    {
     "data": {
      "image/png": "[encoded data removed]",
      "text/plain": [
       "<Figure size 864x576 with 1 Axes>"
      ]
     },
     "metadata": {
      "needs_background": "light"
     },
     "output_type": "display_data"
    }
   ],
   "source": [
    "plt.figure(figsize = (12, 8))\n",
    "plt.scatter(range(0, len(J1)), J1)\n",
    "plt.show()"
   ]
  },
  {
   "cell_type": "markdown",
   "id": "8a69e6fe",
   "metadata": {},
   "source": [
    "## Modelo 2 para Variable 2"
   ]
  },
  {
   "cell_type": "code",
   "execution_count": 121,
   "id": "30d7bb97",
   "metadata": {},
   "outputs": [],
   "source": [
    "X2_train, X2_test, y2_train, y2_test = train_test_split(X, y_2, test_size=0.20, random_state=42, shuffle = True)"
   ]
  },
  {
   "cell_type": "code",
   "execution_count": 122,
   "id": "27bd8707",
   "metadata": {},
   "outputs": [
    {
     "name": "stdout",
     "output_type": "stream",
     "text": [
      "(141, 13) (141,)\n",
      "(36, 13) (36,)\n"
     ]
    }
   ],
   "source": [
    "print(X2_train.shape,y2_train.shape)\n",
    "print(X2_test.shape,y2_test.shape)"
   ]
  },
  {
   "cell_type": "code",
   "execution_count": 123,
   "id": "88926d87",
   "metadata": {},
   "outputs": [
    {
     "name": "stdout",
     "output_type": "stream",
     "text": [
      "(13, 1)\n"
     ]
    }
   ],
   "source": [
    "m, n = X.shape\n",
    "theta_02 = np.full((n,1), 0.5)\n",
    "print(theta_02.shape)"
   ]
  },
  {
   "cell_type": "code",
   "execution_count": 124,
   "id": "82a0813f",
   "metadata": {},
   "outputs": [],
   "source": [
    "J2, theta2 = gradient_descent(\n",
    "X2_train, y2_train, theta_02, 0.000001, 10000)"
   ]
  },
  {
   "cell_type": "code",
   "execution_count": 127,
   "id": "855efa0c",
   "metadata": {},
   "outputs": [
    {
     "name": "stdout",
     "output_type": "stream",
     "text": [
      "255.74602204244172\n"
     ]
    }
   ],
   "source": [
    "print(J2[len(J2)-1])"
   ]
  },
  {
   "cell_type": "code",
   "execution_count": 128,
   "id": "5b7589c8",
   "metadata": {},
   "outputs": [
    {
     "data": {
      "text/plain": [
       "(13, 1)"
      ]
     },
     "execution_count": 128,
     "metadata": {},
     "output_type": "execute_result"
    }
   ],
   "source": [
    "theta2.shape"
   ]
  },
  {
   "cell_type": "code",
   "execution_count": 129,
   "id": "d53cd41b",
   "metadata": {},
   "outputs": [
    {
     "data": {
      "text/plain": [
       "0.4970440982016331"
      ]
     },
     "execution_count": 129,
     "metadata": {},
     "output_type": "execute_result"
    }
   ],
   "source": [
    "valor_h(X2_train, X2_test, theta_02)"
   ]
  },
  {
   "cell_type": "code",
   "execution_count": 130,
   "id": "c04476f0",
   "metadata": {},
   "outputs": [
    {
     "data": {
      "image/png": "[encoded data removed]",
      "text/plain": [
       "<Figure size 864x576 with 1 Axes>"
      ]
     },
     "metadata": {
      "needs_background": "light"
     },
     "output_type": "display_data"
    }
   ],
   "source": [
    "plt.figure(figsize = (12, 8))\n",
    "plt.scatter(range(0, len(J2)), J2)\n",
    "plt.show()"
   ]
  },
  {
   "cell_type": "markdown",
   "id": "bd0bf5d6",
   "metadata": {},
   "source": [
    "## Modelo 3 para Variable 3"
   ]
  },
  {
   "cell_type": "code",
   "execution_count": 131,
   "id": "b03a976f",
   "metadata": {},
   "outputs": [],
   "source": [
    "X3_train, X3_test, y3_train, y3_test = train_test_split(X, y_1, test_size=0.20, random_state=42, shuffle = True)"
   ]
  },
  {
   "cell_type": "code",
   "execution_count": 132,
   "id": "a00cd042",
   "metadata": {},
   "outputs": [
    {
     "name": "stdout",
     "output_type": "stream",
     "text": [
      "(141, 13) (141,)\n",
      "(36, 13) (36,)\n"
     ]
    }
   ],
   "source": [
    "print(X3_train.shape,y3_train.shape)\n",
    "print(X3_test.shape,y3_test.shape)"
   ]
  },
  {
   "cell_type": "code",
   "execution_count": 133,
   "id": "3820d364",
   "metadata": {},
   "outputs": [
    {
     "name": "stdout",
     "output_type": "stream",
     "text": [
      "(13, 1)\n"
     ]
    }
   ],
   "source": [
    "m, n = X.shape\n",
    "theta_03 = np.full((n,1), 0.5)\n",
    "print(theta_03.shape)"
   ]
  },
  {
   "cell_type": "code",
   "execution_count": 134,
   "id": "9941168b",
   "metadata": {},
   "outputs": [],
   "source": [
    "J3, theta3 = gradient_descent(\n",
    "X3_train, y3_train, theta_03, 0.000001, 10000)"
   ]
  },
  {
   "cell_type": "code",
   "execution_count": 135,
   "id": "91ba0a71",
   "metadata": {},
   "outputs": [
    {
     "name": "stdout",
     "output_type": "stream",
     "text": [
      "774.7081589438764\n"
     ]
    }
   ],
   "source": [
    "print(J3[len(J3)-1])"
   ]
  },
  {
   "cell_type": "code",
   "execution_count": 136,
   "id": "53721dad",
   "metadata": {},
   "outputs": [
    {
     "data": {
      "text/plain": [
       "(13, 1)"
      ]
     },
     "execution_count": 136,
     "metadata": {},
     "output_type": "execute_result"
    }
   ],
   "source": [
    "theta3.shape"
   ]
  },
  {
   "cell_type": "code",
   "execution_count": 137,
   "id": "5a88873c",
   "metadata": {},
   "outputs": [
    {
     "data": {
      "text/plain": [
       "0.4970440982016331"
      ]
     },
     "execution_count": 137,
     "metadata": {},
     "output_type": "execute_result"
    }
   ],
   "source": [
    "valor_h(X3_train, X3_test, theta_03)"
   ]
  },
  {
   "cell_type": "code",
   "execution_count": 139,
   "id": "364a2659",
   "metadata": {},
   "outputs": [
    {
     "data": {
      "image/png": "[encoded data removed]",
      "text/plain": [
       "<Figure size 864x576 with 1 Axes>"
      ]
     },
     "metadata": {
      "needs_background": "light"
     },
     "output_type": "display_data"
    }
   ],
   "source": [
    "plt.figure(figsize = (12, 8))\n",
    "plt.scatter(range(0, len(J3)), J3)\n",
    "plt.show()"
   ]
  },
  {
   "cell_type": "markdown",
   "id": "458f4833",
   "metadata": {},
   "source": [
    "## Conclusión"
   ]
  },
  {
   "cell_type": "markdown",
   "id": "14cfe7a5",
   "metadata": {},
   "source": [
    "Los valores H son similares en todas las regresiones, sin embargo, el costo de el modelo de clasificación 2 es mejor en costo, por lo cual optaria por usar un modelo de regresión logistica en base en la variable 2"
   ]
  },
  {
   "cell_type": "code",
   "execution_count": null,
   "id": "cbe42a97",
   "metadata": {},
   "outputs": [],
   "source": []
  }
 ],
 "metadata": {
  "kernelspec": {
   "display_name": "Python 3",
   "language": "python",
   "name": "python3"
  },
  "language_info": {
   "codemirror_mode": {
    "name": "ipython",
    "version": 3
   },
   "file_extension": ".py",
   "mimetype": "text/x-python",
   "name": "python",
   "nbconvert_exporter": "python",
   "pygments_lexer": "ipython3",
   "version": "3.7.4"
  }
 },
 "nbformat": 4,
 "nbformat_minor": 5
}
